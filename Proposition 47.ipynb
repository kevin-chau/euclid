{
 "cells": [
  {
   "cell_type": "markdown",
   "id": "1aa659cc-1313-4c34-97bd-ce3f42a59e04",
   "metadata": {},
   "source": [
    "# Proposition 47: The Pythagorean Theorem\n",
    "In right-angled triangles the square on the side opposite the right angle equals the sum of the squares on the sides containing the right angle.\n",
    "\n"
   ]
  }
 ],
 "metadata": {
  "kernelspec": {
   "display_name": "Python 3 (ipykernel)",
   "language": "python",
   "name": "python3"
  },
  "language_info": {
   "codemirror_mode": {
    "name": "ipython",
    "version": 3
   },
   "file_extension": ".py",
   "mimetype": "text/x-python",
   "name": "python",
   "nbconvert_exporter": "python",
   "pygments_lexer": "ipython3",
   "version": "3.9.6"
  }
 },
 "nbformat": 4,
 "nbformat_minor": 5
}
